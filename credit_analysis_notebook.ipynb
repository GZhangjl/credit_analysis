{
 "cells": [
  {
   "cell_type": "code",
   "execution_count": 1,
   "metadata": {},
   "outputs": [],
   "source": [
    "import numpy as np\n",
    "import pandas as pd\n",
    "import matplotlib.pyplot as plt\n",
    "import seaborn as sns\n",
    "import warnings\n",
    "warnings.filterwarnings('ignore')"
   ]
  },
  {
   "cell_type": "code",
   "execution_count": 2,
   "metadata": {},
   "outputs": [],
   "source": [
    "# 进行数据导入\n",
    "\n",
    "companies_data = pd.read_excel(io='companies.xls', sheet_name=0)"
   ]
  },
  {
   "cell_type": "code",
   "execution_count": 3,
   "metadata": {},
   "outputs": [
    {
     "data": {
      "text/html": [
       "<div>\n",
       "<style scoped>\n",
       "    .dataframe tbody tr th:only-of-type {\n",
       "        vertical-align: middle;\n",
       "    }\n",
       "\n",
       "    .dataframe tbody tr th {\n",
       "        vertical-align: top;\n",
       "    }\n",
       "\n",
       "    .dataframe thead th {\n",
       "        text-align: right;\n",
       "    }\n",
       "</style>\n",
       "<table border=\"1\" class=\"dataframe\">\n",
       "  <thead>\n",
       "    <tr style=\"text-align: right;\">\n",
       "      <th></th>\n",
       "      <th>ASSET</th>\n",
       "      <th>LIBITY</th>\n",
       "      <th>CASSET</th>\n",
       "      <th>CLIBITY</th>\n",
       "      <th>CASH</th>\n",
       "      <th>SREVENUE</th>\n",
       "      <th>SPROFIT</th>\n",
       "      <th>NPROFIT</th>\n",
       "      <th>RECEIVAB</th>\n",
       "      <th>MAINCOST</th>\n",
       "      <th>INVENTRY</th>\n",
       "      <th>LOAN</th>\n",
       "      <th>INTEREST</th>\n",
       "      <th>RATING</th>\n",
       "    </tr>\n",
       "  </thead>\n",
       "  <tbody>\n",
       "    <tr>\n",
       "      <th>0</th>\n",
       "      <td>1.547336e+10</td>\n",
       "      <td>1.059925e+10</td>\n",
       "      <td>6.835456e+09</td>\n",
       "      <td>3.197114e+09</td>\n",
       "      <td>2.039102e+09</td>\n",
       "      <td>1.641898e+10</td>\n",
       "      <td>4.895354e+09</td>\n",
       "      <td>7.454865e+08</td>\n",
       "      <td>8.873680e+07</td>\n",
       "      <td>1.152363e+10</td>\n",
       "      <td>2.860091e+09</td>\n",
       "      <td>3.636876e+09</td>\n",
       "      <td>1.852834e+08</td>\n",
       "      <td>1</td>\n",
       "    </tr>\n",
       "    <tr>\n",
       "      <th>1</th>\n",
       "      <td>5.680612e+10</td>\n",
       "      <td>3.970748e+10</td>\n",
       "      <td>2.085414e+10</td>\n",
       "      <td>1.668331e+10</td>\n",
       "      <td>1.289789e+10</td>\n",
       "      <td>3.511169e+09</td>\n",
       "      <td>1.814890e+09</td>\n",
       "      <td>7.598296e+08</td>\n",
       "      <td>2.265957e+09</td>\n",
       "      <td>1.696280e+09</td>\n",
       "      <td>8.692615e+08</td>\n",
       "      <td>1.561541e+09</td>\n",
       "      <td>7.700409e+07</td>\n",
       "      <td>1</td>\n",
       "    </tr>\n",
       "    <tr>\n",
       "      <th>2</th>\n",
       "      <td>8.345341e+09</td>\n",
       "      <td>5.833393e+09</td>\n",
       "      <td>8.047869e+08</td>\n",
       "      <td>6.438295e+08</td>\n",
       "      <td>7.675127e+08</td>\n",
       "      <td>2.031876e+09</td>\n",
       "      <td>1.407197e+09</td>\n",
       "      <td>8.709336e+08</td>\n",
       "      <td>0.000000e+00</td>\n",
       "      <td>6.246784e+08</td>\n",
       "      <td>2.157535e+08</td>\n",
       "      <td>4.623853e+08</td>\n",
       "      <td>2.280155e+07</td>\n",
       "      <td>1</td>\n",
       "    </tr>\n",
       "    <tr>\n",
       "      <th>3</th>\n",
       "      <td>7.926957e+09</td>\n",
       "      <td>4.439096e+09</td>\n",
       "      <td>1.679505e+09</td>\n",
       "      <td>2.362389e+09</td>\n",
       "      <td>4.172194e+08</td>\n",
       "      <td>1.187910e+09</td>\n",
       "      <td>5.533089e+08</td>\n",
       "      <td>1.284279e+08</td>\n",
       "      <td>1.136382e+09</td>\n",
       "      <td>6.346015e+08</td>\n",
       "      <td>2.667839e+07</td>\n",
       "      <td>2.764960e+09</td>\n",
       "      <td>1.363481e+08</td>\n",
       "      <td>1</td>\n",
       "    </tr>\n",
       "    <tr>\n",
       "      <th>4</th>\n",
       "      <td>9.596428e+10</td>\n",
       "      <td>6.573553e+10</td>\n",
       "      <td>3.248151e+10</td>\n",
       "      <td>3.089705e+10</td>\n",
       "      <td>3.929240e+09</td>\n",
       "      <td>2.166234e+10</td>\n",
       "      <td>2.408890e+09</td>\n",
       "      <td>9.145913e+08</td>\n",
       "      <td>2.869013e+09</td>\n",
       "      <td>1.925345e+10</td>\n",
       "      <td>6.586292e+09</td>\n",
       "      <td>1.765877e+10</td>\n",
       "      <td>8.996395e+08</td>\n",
       "      <td>1</td>\n",
       "    </tr>\n",
       "    <tr>\n",
       "      <th>5</th>\n",
       "      <td>6.329863e+10</td>\n",
       "      <td>4.335956e+10</td>\n",
       "      <td>8.042116e+09</td>\n",
       "      <td>1.461258e+10</td>\n",
       "      <td>1.901062e+09</td>\n",
       "      <td>2.683185e+10</td>\n",
       "      <td>5.915800e+09</td>\n",
       "      <td>3.175083e+09</td>\n",
       "      <td>3.269928e+09</td>\n",
       "      <td>2.091605e+10</td>\n",
       "      <td>1.540905e+09</td>\n",
       "      <td>2.362876e+10</td>\n",
       "      <td>1.203785e+09</td>\n",
       "      <td>1</td>\n",
       "    </tr>\n",
       "    <tr>\n",
       "      <th>6</th>\n",
       "      <td>7.873401e+09</td>\n",
       "      <td>5.393280e+09</td>\n",
       "      <td>5.699675e+08</td>\n",
       "      <td>2.341210e+09</td>\n",
       "      <td>5.593455e+08</td>\n",
       "      <td>8.910332e+08</td>\n",
       "      <td>5.780460e+08</td>\n",
       "      <td>3.555754e+08</td>\n",
       "      <td>0.000000e+00</td>\n",
       "      <td>3.129872e+08</td>\n",
       "      <td>2.616537e+07</td>\n",
       "      <td>1.211009e+09</td>\n",
       "      <td>6.169577e+07</td>\n",
       "      <td>1</td>\n",
       "    </tr>\n",
       "    <tr>\n",
       "      <th>7</th>\n",
       "      <td>2.432424e+10</td>\n",
       "      <td>1.666210e+10</td>\n",
       "      <td>1.041738e+10</td>\n",
       "      <td>7.579921e+09</td>\n",
       "      <td>2.737957e+09</td>\n",
       "      <td>1.753313e+10</td>\n",
       "      <td>1.162659e+09</td>\n",
       "      <td>7.667492e+08</td>\n",
       "      <td>5.307126e+07</td>\n",
       "      <td>1.637047e+10</td>\n",
       "      <td>4.213021e+09</td>\n",
       "      <td>4.756771e+09</td>\n",
       "      <td>2.423373e+08</td>\n",
       "      <td>1</td>\n",
       "    </tr>\n",
       "    <tr>\n",
       "      <th>8</th>\n",
       "      <td>8.137729e+08</td>\n",
       "      <td>2.909524e+08</td>\n",
       "      <td>4.783448e+08</td>\n",
       "      <td>2.907972e+08</td>\n",
       "      <td>8.418496e+07</td>\n",
       "      <td>5.963979e+08</td>\n",
       "      <td>4.163151e+07</td>\n",
       "      <td>7.056628e+06</td>\n",
       "      <td>6.136065e+07</td>\n",
       "      <td>2.442264e+08</td>\n",
       "      <td>1.442264e+08</td>\n",
       "      <td>7.091970e+07</td>\n",
       "      <td>2.873910e+06</td>\n",
       "      <td>3</td>\n",
       "    </tr>\n",
       "    <tr>\n",
       "      <th>9</th>\n",
       "      <td>1.707652e+10</td>\n",
       "      <td>1.169742e+10</td>\n",
       "      <td>2.196964e+09</td>\n",
       "      <td>1.447596e+09</td>\n",
       "      <td>7.088404e+08</td>\n",
       "      <td>1.102394e+09</td>\n",
       "      <td>6.967291e+08</td>\n",
       "      <td>5.776337e+08</td>\n",
       "      <td>1.136930e+09</td>\n",
       "      <td>4.056649e+08</td>\n",
       "      <td>2.384750e+07</td>\n",
       "      <td>8.292707e+08</td>\n",
       "      <td>4.089373e+07</td>\n",
       "      <td>1</td>\n",
       "    </tr>\n",
       "  </tbody>\n",
       "</table>\n",
       "</div>"
      ],
      "text/plain": [
       "          ASSET        LIBITY        CASSET       CLIBITY          CASH  \\\n",
       "0  1.547336e+10  1.059925e+10  6.835456e+09  3.197114e+09  2.039102e+09   \n",
       "1  5.680612e+10  3.970748e+10  2.085414e+10  1.668331e+10  1.289789e+10   \n",
       "2  8.345341e+09  5.833393e+09  8.047869e+08  6.438295e+08  7.675127e+08   \n",
       "3  7.926957e+09  4.439096e+09  1.679505e+09  2.362389e+09  4.172194e+08   \n",
       "4  9.596428e+10  6.573553e+10  3.248151e+10  3.089705e+10  3.929240e+09   \n",
       "5  6.329863e+10  4.335956e+10  8.042116e+09  1.461258e+10  1.901062e+09   \n",
       "6  7.873401e+09  5.393280e+09  5.699675e+08  2.341210e+09  5.593455e+08   \n",
       "7  2.432424e+10  1.666210e+10  1.041738e+10  7.579921e+09  2.737957e+09   \n",
       "8  8.137729e+08  2.909524e+08  4.783448e+08  2.907972e+08  8.418496e+07   \n",
       "9  1.707652e+10  1.169742e+10  2.196964e+09  1.447596e+09  7.088404e+08   \n",
       "\n",
       "       SREVENUE       SPROFIT       NPROFIT      RECEIVAB      MAINCOST  \\\n",
       "0  1.641898e+10  4.895354e+09  7.454865e+08  8.873680e+07  1.152363e+10   \n",
       "1  3.511169e+09  1.814890e+09  7.598296e+08  2.265957e+09  1.696280e+09   \n",
       "2  2.031876e+09  1.407197e+09  8.709336e+08  0.000000e+00  6.246784e+08   \n",
       "3  1.187910e+09  5.533089e+08  1.284279e+08  1.136382e+09  6.346015e+08   \n",
       "4  2.166234e+10  2.408890e+09  9.145913e+08  2.869013e+09  1.925345e+10   \n",
       "5  2.683185e+10  5.915800e+09  3.175083e+09  3.269928e+09  2.091605e+10   \n",
       "6  8.910332e+08  5.780460e+08  3.555754e+08  0.000000e+00  3.129872e+08   \n",
       "7  1.753313e+10  1.162659e+09  7.667492e+08  5.307126e+07  1.637047e+10   \n",
       "8  5.963979e+08  4.163151e+07  7.056628e+06  6.136065e+07  2.442264e+08   \n",
       "9  1.102394e+09  6.967291e+08  5.776337e+08  1.136930e+09  4.056649e+08   \n",
       "\n",
       "       INVENTRY          LOAN      INTEREST  RATING  \n",
       "0  2.860091e+09  3.636876e+09  1.852834e+08       1  \n",
       "1  8.692615e+08  1.561541e+09  7.700409e+07       1  \n",
       "2  2.157535e+08  4.623853e+08  2.280155e+07       1  \n",
       "3  2.667839e+07  2.764960e+09  1.363481e+08       1  \n",
       "4  6.586292e+09  1.765877e+10  8.996395e+08       1  \n",
       "5  1.540905e+09  2.362876e+10  1.203785e+09       1  \n",
       "6  2.616537e+07  1.211009e+09  6.169577e+07       1  \n",
       "7  4.213021e+09  4.756771e+09  2.423373e+08       1  \n",
       "8  1.442264e+08  7.091970e+07  2.873910e+06       3  \n",
       "9  2.384750e+07  8.292707e+08  4.089373e+07       1  "
      ]
     },
     "execution_count": 3,
     "metadata": {},
     "output_type": "execute_result"
    }
   ],
   "source": [
    "companies_data.head(10)"
   ]
  },
  {
   "cell_type": "code",
   "execution_count": 4,
   "metadata": {},
   "outputs": [],
   "source": [
    "# 根据银监会贷款风险分级，RATING共分为5级，现将标记为1、2的企业认定为非违约级，3、4、5认定为违约级\n",
    "# 进行标签和特征值分离\n",
    "\n",
    "companies_data['label'] = 1\n",
    "companies_data['label'][companies_data['RATING']==1] = 0\n",
    "companies_data['label'][companies_data['RATING']==2] = 0\n",
    "data_label = companies_data['label']\n",
    "data_features = companies_data.drop(labels=['RATING', 'label'], axis=1)"
   ]
  },
  {
   "cell_type": "code",
   "execution_count": 5,
   "metadata": {},
   "outputs": [
    {
     "data": {
      "image/png": "[encoded data removed]",
      "text/plain": [
       "<Figure size 432x288 with 15 Axes>"
      ]
     },
     "metadata": {},
     "output_type": "display_data"
    }
   ],
   "source": [
    "# 进行探索性分析\n",
    "\n",
    "fig, axe = plt.subplots(nrows=3, ncols=5)\n",
    "i = 0\n",
    "for col_name in data_features.columns:\n",
    "    data_features.boxplot(column=col_name, ax=axe[i//5][i%5], figsize=(10,10))\n",
    "    i += 1 \n",
    "\n",
    "# 可以看到极端值比较多，但是由于这已经是有效数据，所以不存在由于收集等因素导致的不正常极端值，故只做观察不做处理"
   ]
  },
  {
   "cell_type": "code",
   "execution_count": 6,
   "metadata": {},
   "outputs": [
    {
     "data": {
      "text/plain": [
       "<matplotlib.axes._subplots.AxesSubplot at 0x21c3ce93f28>"
      ]
     },
     "execution_count": 6,
     "metadata": {},
     "output_type": "execute_result"
    },
    {
     "data": {
      "image/png": "[encoded data removed]",
      "text/plain": [
       "<Figure size 432x288 with 2 Axes>"
      ]
     },
     "metadata": {},
     "output_type": "display_data"
    }
   ],
   "source": [
    "sns.set_style('whitegrid')\n",
    "sns.heatmap(data=companies_data.corr(), cmap=sns.color_palette('RdBu', n_colors=200)) \n",
    "\n",
    "# 可以得到虽然标签和其他特征无显著关系，但是一些特征之间存在较强相关性，可以减少特征以降维"
   ]
  },
  {
   "cell_type": "code",
   "execution_count": 7,
   "metadata": {},
   "outputs": [],
   "source": [
    "# 其他极值、均值等描述性统计量因为与研究问题相关性不强，暂时不做观察\n",
    "\n",
    "# 进行指标的建立\n",
    "# 由于都是财务报表中的指标，由于公司之间体量差别较大，所以单看绝对值无法获得有效结果，故查看相关财务比率\n",
    "\n",
    "data = pd.DataFrame(columns=['x%s' % i for i in range(1,19)])\n",
    "data['x1'] = data_features['LIBITY'] / data_features['ASSET'] # 总负债/总资产\n",
    "data['x2'] = data_features['SREVENUE'] / data_features['INTEREST'] # 销售收入/利息费用\n",
    "data['x3'] = data_features['CASSET'] / data_features['CLIBITY'] # 流动资产/流动负债\n",
    "data['x4'] = data_features['NPROFIT'] / (data_features['ASSET'] - data_features['LIBITY']) # 净利润/净资产\n",
    "data['x5'] = data_features['SREVENUE'] / data_features['CASH'] # 销售收入/现金\n",
    "data['x6'] = np.log(data_features['ASSET']) # 总资产的对数\n",
    "data['x7'] = data_features['SREVENUE'] / data_features['ASSET'] # 销售收入/总资产\n",
    "data['x8'] = data_features['SPROFIT'] / data_features['ASSET'] # 销售利润/总资产\n",
    "data['x9'] = (data_features['SREVENUE'] - data_features['SPROFIT']) / data_features['SPROFIT'] # 销售成本/销售收入\n",
    "data['x10'] = (data_features['RECEIVAB'] + data_features['INVENTRY']) / (data_features['ASSET'] - data_features['LIBITY']) # (应收账款+存货)/净资产\n",
    "data['x11'] = data_features['INVENTRY'] / (data_features['ASSET'] - data_features['LIBITY']) # 存货/净资产\n",
    "data['x12'] = data_features['SREVENUE'] / data_features['LIBITY'] # 销售收入/总负债\n",
    "data['x13'] = data_features['CASSET'] / (data_features['ASSET'] - data_features['LIBITY']) # 流动资产/净资产\n",
    "data['x14'] = data_features['SPROFIT'] / data_features['INTEREST'] # 销售利润/利息费用\n",
    "data['x15'] = data_features['SREVENUE'] / data_features['CASSET'] # 销售收入/流动资产\n",
    "data['x16'] = data_features['SREVENUE'] / (data_features['ASSET'] - data_features['LIBITY']) # 销售收入/净资产\n",
    "data['x17'] = data_features['CASSET'] / data_features['INTEREST'] # 流动资产/利息费用\n",
    "data['x18'] = data_features['MAINCOST'] / data_features['SREVENUE'] # 主营业务成本/销售收入\n",
    "y = data_label"
   ]
  },
  {
   "cell_type": "code",
   "execution_count": 8,
   "metadata": {},
   "outputs": [
    {
     "data": {
      "text/html": [
       "<div>\n",
       "<style scoped>\n",
       "    .dataframe tbody tr th:only-of-type {\n",
       "        vertical-align: middle;\n",
       "    }\n",
       "\n",
       "    .dataframe tbody tr th {\n",
       "        vertical-align: top;\n",
       "    }\n",
       "\n",
       "    .dataframe thead th {\n",
       "        text-align: right;\n",
       "    }\n",
       "</style>\n",
       "<table border=\"1\" class=\"dataframe\">\n",
       "  <thead>\n",
       "    <tr style=\"text-align: right;\">\n",
       "      <th></th>\n",
       "      <th>x1</th>\n",
       "      <th>x2</th>\n",
       "      <th>x3</th>\n",
       "      <th>x4</th>\n",
       "      <th>x5</th>\n",
       "      <th>x6</th>\n",
       "      <th>x7</th>\n",
       "      <th>x8</th>\n",
       "      <th>x9</th>\n",
       "      <th>x10</th>\n",
       "      <th>x11</th>\n",
       "      <th>x12</th>\n",
       "      <th>x13</th>\n",
       "      <th>x14</th>\n",
       "      <th>x15</th>\n",
       "      <th>x16</th>\n",
       "      <th>x17</th>\n",
       "      <th>x18</th>\n",
       "    </tr>\n",
       "  </thead>\n",
       "  <tbody>\n",
       "    <tr>\n",
       "      <th>0</th>\n",
       "      <td>0.685000</td>\n",
       "      <td>88.615529</td>\n",
       "      <td>2.138008</td>\n",
       "      <td>0.152948</td>\n",
       "      <td>8.052067</td>\n",
       "      <td>23.462385</td>\n",
       "      <td>1.061113</td>\n",
       "      <td>0.316373</td>\n",
       "      <td>2.353993</td>\n",
       "      <td>0.604998</td>\n",
       "      <td>0.586793</td>\n",
       "      <td>1.549070</td>\n",
       "      <td>1.402402</td>\n",
       "      <td>26.420905</td>\n",
       "      <td>2.402032</td>\n",
       "      <td>3.368613</td>\n",
       "      <td>36.891905</td>\n",
       "      <td>0.701848</td>\n",
       "    </tr>\n",
       "    <tr>\n",
       "      <th>1</th>\n",
       "      <td>0.699000</td>\n",
       "      <td>45.597179</td>\n",
       "      <td>1.250000</td>\n",
       "      <td>0.044438</td>\n",
       "      <td>0.272228</td>\n",
       "      <td>24.762910</td>\n",
       "      <td>0.061810</td>\n",
       "      <td>0.031949</td>\n",
       "      <td>0.934646</td>\n",
       "      <td>0.183361</td>\n",
       "      <td>0.050838</td>\n",
       "      <td>0.088426</td>\n",
       "      <td>1.219637</td>\n",
       "      <td>23.568743</td>\n",
       "      <td>0.168368</td>\n",
       "      <td>0.205348</td>\n",
       "      <td>270.818555</td>\n",
       "      <td>0.483110</td>\n",
       "    </tr>\n",
       "    <tr>\n",
       "      <th>2</th>\n",
       "      <td>0.699000</td>\n",
       "      <td>89.111301</td>\n",
       "      <td>1.250000</td>\n",
       "      <td>0.346716</td>\n",
       "      <td>2.647351</td>\n",
       "      <td>22.844969</td>\n",
       "      <td>0.243474</td>\n",
       "      <td>0.168621</td>\n",
       "      <td>0.443917</td>\n",
       "      <td>0.085891</td>\n",
       "      <td>0.085891</td>\n",
       "      <td>0.348318</td>\n",
       "      <td>0.320384</td>\n",
       "      <td>61.714986</td>\n",
       "      <td>2.524738</td>\n",
       "      <td>0.808885</td>\n",
       "      <td>35.295269</td>\n",
       "      <td>0.307439</td>\n",
       "    </tr>\n",
       "    <tr>\n",
       "      <th>3</th>\n",
       "      <td>0.560000</td>\n",
       "      <td>8.712333</td>\n",
       "      <td>0.710935</td>\n",
       "      <td>0.036821</td>\n",
       "      <td>2.847208</td>\n",
       "      <td>22.793535</td>\n",
       "      <td>0.149857</td>\n",
       "      <td>0.069801</td>\n",
       "      <td>1.146921</td>\n",
       "      <td>0.333459</td>\n",
       "      <td>0.007649</td>\n",
       "      <td>0.267602</td>\n",
       "      <td>0.481528</td>\n",
       "      <td>4.058060</td>\n",
       "      <td>0.707298</td>\n",
       "      <td>0.340584</td>\n",
       "      <td>12.317767</td>\n",
       "      <td>0.534217</td>\n",
       "    </tr>\n",
       "    <tr>\n",
       "      <th>4</th>\n",
       "      <td>0.685000</td>\n",
       "      <td>24.078909</td>\n",
       "      <td>1.051282</td>\n",
       "      <td>0.030256</td>\n",
       "      <td>5.513112</td>\n",
       "      <td>25.287242</td>\n",
       "      <td>0.225733</td>\n",
       "      <td>0.025102</td>\n",
       "      <td>7.992666</td>\n",
       "      <td>0.312792</td>\n",
       "      <td>0.217882</td>\n",
       "      <td>0.329538</td>\n",
       "      <td>1.074524</td>\n",
       "      <td>2.677616</td>\n",
       "      <td>0.666913</td>\n",
       "      <td>0.716614</td>\n",
       "      <td>36.105030</td>\n",
       "      <td>0.888798</td>\n",
       "    </tr>\n",
       "    <tr>\n",
       "      <th>5</th>\n",
       "      <td>0.685000</td>\n",
       "      <td>22.289575</td>\n",
       "      <td>0.550356</td>\n",
       "      <td>0.159239</td>\n",
       "      <td>14.114138</td>\n",
       "      <td>24.871129</td>\n",
       "      <td>0.423893</td>\n",
       "      <td>0.093459</td>\n",
       "      <td>3.535625</td>\n",
       "      <td>0.241277</td>\n",
       "      <td>0.077281</td>\n",
       "      <td>0.618822</td>\n",
       "      <td>0.403335</td>\n",
       "      <td>4.914334</td>\n",
       "      <td>3.336417</td>\n",
       "      <td>1.345692</td>\n",
       "      <td>6.680693</td>\n",
       "      <td>0.779523</td>\n",
       "    </tr>\n",
       "    <tr>\n",
       "      <th>6</th>\n",
       "      <td>0.685000</td>\n",
       "      <td>14.442370</td>\n",
       "      <td>0.243450</td>\n",
       "      <td>0.143370</td>\n",
       "      <td>1.592992</td>\n",
       "      <td>22.786756</td>\n",
       "      <td>0.113170</td>\n",
       "      <td>0.073418</td>\n",
       "      <td>0.541457</td>\n",
       "      <td>0.010550</td>\n",
       "      <td>0.010550</td>\n",
       "      <td>0.165212</td>\n",
       "      <td>0.229814</td>\n",
       "      <td>9.369297</td>\n",
       "      <td>1.563305</td>\n",
       "      <td>0.359270</td>\n",
       "      <td>9.238355</td>\n",
       "      <td>0.351263</td>\n",
       "    </tr>\n",
       "    <tr>\n",
       "      <th>7</th>\n",
       "      <td>0.685000</td>\n",
       "      <td>72.350120</td>\n",
       "      <td>1.374338</td>\n",
       "      <td>0.100070</td>\n",
       "      <td>6.403729</td>\n",
       "      <td>23.914739</td>\n",
       "      <td>0.720809</td>\n",
       "      <td>0.047798</td>\n",
       "      <td>14.080204</td>\n",
       "      <td>0.556776</td>\n",
       "      <td>0.549850</td>\n",
       "      <td>1.052276</td>\n",
       "      <td>1.359592</td>\n",
       "      <td>4.797688</td>\n",
       "      <td>1.683066</td>\n",
       "      <td>2.288283</td>\n",
       "      <td>42.987096</td>\n",
       "      <td>0.933688</td>\n",
       "    </tr>\n",
       "    <tr>\n",
       "      <th>8</th>\n",
       "      <td>0.357535</td>\n",
       "      <td>207.521430</td>\n",
       "      <td>1.644943</td>\n",
       "      <td>0.013497</td>\n",
       "      <td>7.084376</td>\n",
       "      <td>20.517192</td>\n",
       "      <td>0.732880</td>\n",
       "      <td>0.051159</td>\n",
       "      <td>13.325637</td>\n",
       "      <td>0.393227</td>\n",
       "      <td>0.275862</td>\n",
       "      <td>2.049813</td>\n",
       "      <td>0.914931</td>\n",
       "      <td>14.486017</td>\n",
       "      <td>1.246795</td>\n",
       "      <td>1.140732</td>\n",
       "      <td>166.443914</td>\n",
       "      <td>0.409502</td>\n",
       "    </tr>\n",
       "    <tr>\n",
       "      <th>9</th>\n",
       "      <td>0.685000</td>\n",
       "      <td>26.957534</td>\n",
       "      <td>1.517664</td>\n",
       "      <td>0.107385</td>\n",
       "      <td>1.555208</td>\n",
       "      <td>23.560970</td>\n",
       "      <td>0.064556</td>\n",
       "      <td>0.040800</td>\n",
       "      <td>0.582242</td>\n",
       "      <td>0.215794</td>\n",
       "      <td>0.004433</td>\n",
       "      <td>0.094243</td>\n",
       "      <td>0.408426</td>\n",
       "      <td>17.037555</td>\n",
       "      <td>0.501781</td>\n",
       "      <td>0.204940</td>\n",
       "      <td>53.723747</td>\n",
       "      <td>0.367985</td>\n",
       "    </tr>\n",
       "  </tbody>\n",
       "</table>\n",
       "</div>"
      ],
      "text/plain": [
       "         x1          x2        x3        x4         x5         x6        x7  \\\n",
       "0  0.685000   88.615529  2.138008  0.152948   8.052067  23.462385  1.061113   \n",
       "1  0.699000   45.597179  1.250000  0.044438   0.272228  24.762910  0.061810   \n",
       "2  0.699000   89.111301  1.250000  0.346716   2.647351  22.844969  0.243474   \n",
       "3  0.560000    8.712333  0.710935  0.036821   2.847208  22.793535  0.149857   \n",
       "4  0.685000   24.078909  1.051282  0.030256   5.513112  25.287242  0.225733   \n",
       "5  0.685000   22.289575  0.550356  0.159239  14.114138  24.871129  0.423893   \n",
       "6  0.685000   14.442370  0.243450  0.143370   1.592992  22.786756  0.113170   \n",
       "7  0.685000   72.350120  1.374338  0.100070   6.403729  23.914739  0.720809   \n",
       "8  0.357535  207.521430  1.644943  0.013497   7.084376  20.517192  0.732880   \n",
       "9  0.685000   26.957534  1.517664  0.107385   1.555208  23.560970  0.064556   \n",
       "\n",
       "         x8         x9       x10       x11       x12       x13        x14  \\\n",
       "0  0.316373   2.353993  0.604998  0.586793  1.549070  1.402402  26.420905   \n",
       "1  0.031949   0.934646  0.183361  0.050838  0.088426  1.219637  23.568743   \n",
       "2  0.168621   0.443917  0.085891  0.085891  0.348318  0.320384  61.714986   \n",
       "3  0.069801   1.146921  0.333459  0.007649  0.267602  0.481528   4.058060   \n",
       "4  0.025102   7.992666  0.312792  0.217882  0.329538  1.074524   2.677616   \n",
       "5  0.093459   3.535625  0.241277  0.077281  0.618822  0.403335   4.914334   \n",
       "6  0.073418   0.541457  0.010550  0.010550  0.165212  0.229814   9.369297   \n",
       "7  0.047798  14.080204  0.556776  0.549850  1.052276  1.359592   4.797688   \n",
       "8  0.051159  13.325637  0.393227  0.275862  2.049813  0.914931  14.486017   \n",
       "9  0.040800   0.582242  0.215794  0.004433  0.094243  0.408426  17.037555   \n",
       "\n",
       "        x15       x16         x17       x18  \n",
       "0  2.402032  3.368613   36.891905  0.701848  \n",
       "1  0.168368  0.205348  270.818555  0.483110  \n",
       "2  2.524738  0.808885   35.295269  0.307439  \n",
       "3  0.707298  0.340584   12.317767  0.534217  \n",
       "4  0.666913  0.716614   36.105030  0.888798  \n",
       "5  3.336417  1.345692    6.680693  0.779523  \n",
       "6  1.563305  0.359270    9.238355  0.351263  \n",
       "7  1.683066  2.288283   42.987096  0.933688  \n",
       "8  1.246795  1.140732  166.443914  0.409502  \n",
       "9  0.501781  0.204940   53.723747  0.367985  "
      ]
     },
     "execution_count": 8,
     "metadata": {},
     "output_type": "execute_result"
    }
   ],
   "source": [
    "data.head(10)"
   ]
  },
  {
   "cell_type": "code",
   "execution_count": 9,
   "metadata": {},
   "outputs": [],
   "source": [
    "# 进行训练数据集和验证数据集的拆分\n",
    "\n",
    "from sklearn.model_selection import train_test_split\n",
    "\n",
    "train_temp, test_temp, y_train, y_test = train_test_split(data, y, test_size=0.3, random_state=13)\n",
    "X_train = train_temp.copy()\n",
    "X_test = test_temp.copy()\n",
    "train = train_temp.copy()\n",
    "test = test_temp.copy()\n",
    "train['label'] = y_train\n",
    "test['label'] = y_test"
   ]
  },
  {
   "cell_type": "code",
   "execution_count": 10,
   "metadata": {},
   "outputs": [
    {
     "data": {
      "image/png": "[encoded data removed]",
      "text/plain": [
       "<Figure size 432x288 with 2 Axes>"
      ]
     },
     "metadata": {},
     "output_type": "display_data"
    }
   ],
   "source": [
    "# 对训练集进行分析\n",
    "# 降维\n",
    "# 1.采用相关系数进行判断\n",
    "\n",
    "sns.set_style('whitegrid')\n",
    "sns.heatmap(data=train.corr(), cmap=sns.color_palette('RdBu', n_colors=200)) # 可以得到有一些特征与标签结果相关性小，所以可以剔除以降维\n",
    "\n",
    "train_corr = train.corr()\n",
    "train_corr1 = train_corr[train_corr['label'] <= 0.25][train_corr['label'] >= -0.25]\n",
    "col_keep = train_corr1.index.tolist()\n",
    "X_train_keep = X_train[col_keep]\n",
    "X_test_keep = X_test[col_keep]"
   ]
  },
  {
   "cell_type": "code",
   "execution_count": 11,
   "metadata": {},
   "outputs": [],
   "source": [
    "# 2.采用LDA进行分析\n",
    "# （暂不采用PCA（主成分分析法）进行分析，因为PCA适合非监督学习）\n",
    "# from sklearn.decomposition import PCA\n",
    "# pca_test = PCA(n_components=data.shape[1])\n",
    "# pca_test.fit(X_train)\n",
    "# a = pca_test.explained_variance_ratio_\n",
    "# plt.plot([i for i in range(data.shape[1])], [np.sum(a[:i+1]) for i in range(data.shape[1])])\n",
    "\n",
    "# 由于LDA本身就可以作为分类器使用，所以在降维的同时直接也产生了分类模型\n",
    "\n",
    "from sklearn.discriminant_analysis import LinearDiscriminantAnalysis\n",
    "\n",
    "lda = LinearDiscriminantAnalysis(n_components=data.shape[1])\n",
    "lda.fit(X_train, y_train)\n",
    "lda_score = lda.score(X_test, y_test)\n",
    "lda_c_score = lda.decision_function(X_test)"
   ]
  },
  {
   "cell_type": "code",
   "execution_count": 12,
   "metadata": {},
   "outputs": [
    {
     "data": {
      "text/plain": [
       "0.9776536312849162"
      ]
     },
     "execution_count": 12,
     "metadata": {},
     "output_type": "execute_result"
    }
   ],
   "source": [
    "lda_score"
   ]
  },
  {
   "cell_type": "code",
   "execution_count": 13,
   "metadata": {},
   "outputs": [
    {
     "data": {
      "text/plain": [
       "[<matplotlib.lines.Line2D at 0x21c3d8cf898>]"
      ]
     },
     "execution_count": 13,
     "metadata": {},
     "output_type": "execute_result"
    },
    {
     "data": {
      "image/png": "[encoded data removed]",
      "text/plain": [
       "<Figure size 432x288 with 3 Axes>"
      ]
     },
     "metadata": {},
     "output_type": "display_data"
    }
   ],
   "source": [
    "# 另外可使用混淆矩阵以及相关可视化进行模型评估\n",
    "\n",
    "from sklearn.metrics import confusion_matrix, precision_score, recall_score, f1_score, precision_recall_curve, roc_curve, roc_auc_score\n",
    "\n",
    "lda_y_pred = lda.predict(X_test)\n",
    "lda_c_m = confusion_matrix(y_test, lda_y_pred)\n",
    "lda_p_score = precision_score(y_test, lda_y_pred)\n",
    "lda_r_score = recall_score(y_test, lda_y_pred)\n",
    "lda_f1_score = f1_score(y_test, lda_y_pred)\n",
    "lda_p, lda_r, lda_th = precision_recall_curve(y_test, lda_c_score)\n",
    "\n",
    "# 精确率、召回率曲线\n",
    "\n",
    "fig, axe = plt.subplots(3, 1)\n",
    "axe[0].plot(lda_th, lda_p[:-1])\n",
    "axe[1].plot(lda_th, lda_r[:-1])\n",
    "axe[2].plot(lda_p, lda_r)"
   ]
  },
  {
   "cell_type": "code",
   "execution_count": 14,
   "metadata": {},
   "outputs": [
    {
     "data": {
      "image/png": "[encoded data removed]",
      "text/plain": [
       "<Figure size 432x288 with 1 Axes>"
      ]
     },
     "metadata": {},
     "output_type": "display_data"
    }
   ],
   "source": [
    "# ROC曲线\n",
    "\n",
    "lda_fpr, lda_tpr, lda_th = roc_curve(y_test, lda_c_score)\n",
    "plt.plot(lda_fpr, lda_tpr)\n",
    "lda_res = roc_auc_score(y_test, lda_c_score)"
   ]
  },
  {
   "cell_type": "code",
   "execution_count": 15,
   "metadata": {},
   "outputs": [
    {
     "data": {
      "text/plain": [
       "0.9375838926174497"
      ]
     },
     "execution_count": 15,
     "metadata": {},
     "output_type": "execute_result"
    }
   ],
   "source": [
    "lda_res"
   ]
  },
  {
   "cell_type": "code",
   "execution_count": 16,
   "metadata": {},
   "outputs": [
    {
     "data": {
      "text/plain": [
       "[<matplotlib.lines.Line2D at 0x21c3cd59048>]"
      ]
     },
     "execution_count": 16,
     "metadata": {},
     "output_type": "execute_result"
    },
    {
     "data": {
      "image/png": "[encoded data removed]",
      "text/plain": [
       "<Figure size 432x288 with 3 Axes>"
      ]
     },
     "metadata": {},
     "output_type": "display_data"
    }
   ],
   "source": [
    "# 使用逻辑回归进行分类以及kNN方法进行分类\n",
    "# 1.逻辑回归+评估(使用全部特征)\n",
    "\n",
    "from sklearn.linear_model import LogisticRegression\n",
    "\n",
    "lr = LogisticRegression()\n",
    "lr.fit(X_train, y_train)\n",
    "lr_y_pred = lr.predict(X_test)\n",
    "lr_score = lr.score(X_test, y_test)\n",
    "lr_c_score = lr.decision_function(X_test)\n",
    "\n",
    "lr_c_m = confusion_matrix(y_test, lr_y_pred)\n",
    "lr_p_score = precision_score(y_test, lr_y_pred)\n",
    "lr_r_score = recall_score(y_test, lr_y_pred)\n",
    "lr_f1_score = f1_score(y_test, lr_y_pred)\n",
    "lr_p, lr_r, lr_th = precision_recall_curve(y_test, lr_c_score)\n",
    "\n",
    "# 精确率、召回率曲线\n",
    "\n",
    "fig, axe = plt.subplots(3, 1)\n",
    "axe[0].plot(lr_th, lr_p[:-1])\n",
    "axe[1].plot(lr_th, lr_r[:-1])\n",
    "axe[2].plot(lr_p, lr_r)"
   ]
  },
  {
   "cell_type": "code",
   "execution_count": 17,
   "metadata": {},
   "outputs": [
    {
     "data": {
      "image/png": "[encoded data removed]",
      "text/plain": [
       "<Figure size 432x288 with 1 Axes>"
      ]
     },
     "metadata": {},
     "output_type": "display_data"
    }
   ],
   "source": [
    "# ROC曲线\n",
    "\n",
    "lr_fpr, lr_tpr, lr_th = roc_curve(y_test, lr_c_score)\n",
    "plt.plot(lr_fpr, lr_tpr)\n",
    "lr_res = roc_auc_score(y_test, lr_c_score)"
   ]
  },
  {
   "cell_type": "code",
   "execution_count": 18,
   "metadata": {},
   "outputs": [
    {
     "data": {
      "text/plain": [
       "0.9331096196868008"
      ]
     },
     "execution_count": 18,
     "metadata": {},
     "output_type": "execute_result"
    }
   ],
   "source": [
    "lr_res"
   ]
  },
  {
   "cell_type": "code",
   "execution_count": 19,
   "metadata": {},
   "outputs": [
    {
     "data": {
      "text/plain": [
       "[<matplotlib.lines.Line2D at 0x21c3b6fafd0>]"
      ]
     },
     "execution_count": 19,
     "metadata": {},
     "output_type": "execute_result"
    },
    {
     "data": {
      "image/png": "[encoded data removed]",
      "text/plain": [
       "<Figure size 432x288 with 3 Axes>"
      ]
     },
     "metadata": {},
     "output_type": "display_data"
    }
   ],
   "source": [
    "# (使用降维后的数据)\n",
    "\n",
    "from sklearn.linear_model import LogisticRegression\n",
    "lr2 = LogisticRegression()\n",
    "lr2.fit(X_train_keep, y_train)\n",
    "lr2_y_pred = lr2.predict(X_test_keep)\n",
    "lr2_score = lr2.score(X_test_keep, y_test)\n",
    "lr2_c_score = lr2.decision_function(X_test_keep)\n",
    "\n",
    "lr2_c_m = confusion_matrix(y_test, lr2_y_pred)\n",
    "lr2_p_score = precision_score(y_test, lr2_y_pred)\n",
    "lr2_r_score = recall_score(y_test, lr2_y_pred)\n",
    "lr2_f1_score = f1_score(y_test, lr2_y_pred)\n",
    "lr2_p, lr2_r, lr2_th = precision_recall_curve(y_test, lr2_c_score)\n",
    "fig, axe = plt.subplots(3, 1)\n",
    "axe[0].plot(lr2_th, lr2_p[:-1])\n",
    "axe[1].plot(lr2_th, lr2_r[:-1])\n",
    "axe[2].plot(lr2_p, lr2_r)"
   ]
  },
  {
   "cell_type": "code",
   "execution_count": 20,
   "metadata": {},
   "outputs": [
    {
     "data": {
      "image/png": "[encoded data removed]",
      "text/plain": [
       "<Figure size 432x288 with 1 Axes>"
      ]
     },
     "metadata": {},
     "output_type": "display_data"
    }
   ],
   "source": [
    "lr2_fpr, lr2_tpr, lr2_th = roc_curve(y_test, lr2_c_score)\n",
    "plt.plot(lr_fpr, lr_tpr)\n",
    "lr2_res = roc_auc_score(y_test, lr2_c_score)"
   ]
  },
  {
   "cell_type": "code",
   "execution_count": 21,
   "metadata": {},
   "outputs": [
    {
     "data": {
      "text/plain": [
       "0.7149888143176734"
      ]
     },
     "execution_count": 21,
     "metadata": {},
     "output_type": "execute_result"
    }
   ],
   "source": [
    "lr2_res\n",
    "\n",
    "# 不理想"
   ]
  },
  {
   "cell_type": "code",
   "execution_count": 22,
   "metadata": {},
   "outputs": [
    {
     "name": "stdout",
     "output_type": "stream",
     "text": [
      "Fitting 3 folds for each of 190 candidates, totalling 570 fits\n"
     ]
    },
    {
     "name": "stderr",
     "output_type": "stream",
     "text": [
      "[Parallel(n_jobs=-1)]: Done   5 tasks      | elapsed:   13.5s\n",
      "[Parallel(n_jobs=-1)]: Done  10 tasks      | elapsed:   13.5s\n",
      "[Parallel(n_jobs=-1)]: Done  17 tasks      | elapsed:   13.6s\n",
      "[Parallel(n_jobs=-1)]: Done  24 tasks      | elapsed:   13.6s\n",
      "[Parallel(n_jobs=-1)]: Batch computation too fast (0.1947s.) Setting batch_size=2.\n",
      "[Parallel(n_jobs=-1)]: Done  33 tasks      | elapsed:   13.8s\n",
      "[Parallel(n_jobs=-1)]: Batch computation too fast (0.0987s.) Setting batch_size=8.\n",
      "[Parallel(n_jobs=-1)]: Done  48 tasks      | elapsed:   13.9s\n",
      "[Parallel(n_jobs=-1)]: Done 130 tasks      | elapsed:   15.1s\n",
      "[Parallel(n_jobs=-1)]: Done 218 tasks      | elapsed:   17.9s\n",
      "[Parallel(n_jobs=-1)]: Batch computation too slow (2.0362s.) Setting batch_size=4.\n",
      "[Parallel(n_jobs=-1)]: Done 310 tasks      | elapsed:   20.4s\n",
      "[Parallel(n_jobs=-1)]: Done 362 tasks      | elapsed:   21.7s\n",
      "[Parallel(n_jobs=-1)]: Done 422 tasks      | elapsed:   23.5s\n",
      "[Parallel(n_jobs=-1)]: Done 482 tasks      | elapsed:   26.6s\n",
      "[Parallel(n_jobs=-1)]: Done 570 out of 570 | elapsed:   29.1s finished\n"
     ]
    }
   ],
   "source": [
    "# 2.kNN+评估\n",
    "# (使用网格搜索和交叉验证)\n",
    "\n",
    "from sklearn.neighbors import KNeighborsClassifier\n",
    "from sklearn.model_selection import GridSearchCV\n",
    "\n",
    "knn = KNeighborsClassifier()\n",
    "grid_param = [\n",
    "    {\n",
    "        \"weights\": [\"uniform\"],\n",
    "        \"n_neighbors\": [i for i in range(1, 20)]},\n",
    "    {\n",
    "        \"weights\": [\"distance\"],\n",
    "        \"n_neighbors\": [i for i in range(1, 20)],\n",
    "        \"p\": [i for i in range(1, 10)]\n",
    "    }\n",
    "]\n",
    "gridcv_knn = GridSearchCV(knn, grid_param, n_jobs=-1, verbose=10)\n",
    "gridcv_knn.fit(X_train, y_train)\n",
    "best_est = gridcv_knn.best_estimator_\n",
    "beat_pred = best_est.predict(X_test)\n",
    "best_score_model = gridcv_knn.best_score_\n",
    "knn_cof = confusion_matrix(y_test, beat_pred)\n",
    "best_param = gridcv_knn.best_params_\n",
    "best_c_m = confusion_matrix(y_test, beat_pred)"
   ]
  },
  {
   "cell_type": "code",
   "execution_count": 23,
   "metadata": {},
   "outputs": [
    {
     "data": {
      "text/plain": [
       "KNeighborsClassifier(algorithm='auto', leaf_size=30, metric='minkowski',\n",
       "           metric_params=None, n_jobs=1, n_neighbors=1, p=1,\n",
       "           weights='distance')"
      ]
     },
     "execution_count": 23,
     "metadata": {},
     "output_type": "execute_result"
    }
   ],
   "source": [
    "# 最好的模型\n",
    "\n",
    "best_est"
   ]
  },
  {
   "cell_type": "code",
   "execution_count": 24,
   "metadata": {},
   "outputs": [
    {
     "data": {
      "text/plain": [
       "{'n_neighbors': 1, 'p': 1, 'weights': 'distance'}"
      ]
     },
     "execution_count": 24,
     "metadata": {},
     "output_type": "execute_result"
    }
   ],
   "source": [
    "# 最好的模型超参\n",
    "\n",
    "best_param"
   ]
  },
  {
   "cell_type": "code",
   "execution_count": 25,
   "metadata": {},
   "outputs": [
    {
     "data": {
      "text/plain": [
       "0.9951807228915662"
      ]
     },
     "execution_count": 25,
     "metadata": {},
     "output_type": "execute_result"
    }
   ],
   "source": [
    "# 最好的模型得分\n",
    "\n",
    "best_score_model"
   ]
  },
  {
   "cell_type": "code",
   "execution_count": 26,
   "metadata": {},
   "outputs": [
    {
     "data": {
      "text/plain": [
       "array([[149,   0],\n",
       "       [  4,  26]], dtype=int64)"
      ]
     },
     "execution_count": 26,
     "metadata": {},
     "output_type": "execute_result"
    }
   ],
   "source": [
    "# 对应的混淆举证\n",
    "\n",
    "best_c_m"
   ]
  }
 ],
 "metadata": {
  "kernelspec": {
   "display_name": "Python 3",
   "language": "python",
   "name": "python3"
  },
  "language_info": {
   "codemirror_mode": {
    "name": "ipython",
    "version": 3
   },
   "file_extension": ".py",
   "mimetype": "text/x-python",
   "name": "python",
   "nbconvert_exporter": "python",
   "pygments_lexer": "ipython3",
   "version": "3.6.5"
  }
 },
 "nbformat": 4,
 "nbformat_minor": 2
}
